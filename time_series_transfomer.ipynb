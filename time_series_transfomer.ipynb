{
 "cells": [
  {
   "cell_type": "markdown",
   "id": "cd458cd5",
   "metadata": {},
   "source": [
    "# <font color='blue'>Time Series Transformer </font>\n",
    "\n",
    "## <font color='blue'>Matemática da Arquitetura Transformer na Análise e Forecast de Séries Temporais</font>\n",
    "\n",
    "### Este notebook demonstra como aplicar a arquitetura transformer para análise e previsão de séries temporais"
   ]
  },
  {
   "cell_type": "code",
   "execution_count": 14,
   "id": "dd3ac382",
   "metadata": {},
   "outputs": [],
   "source": [
    "import warnings\n",
    "warnings.filterwarnings('ignore')"
   ]
  },
  {
   "cell_type": "markdown",
   "id": "802755fe",
   "metadata": {},
   "source": [
    "## 1. Importando Bibliotecas e Configuração\n",
    "\n",
    "Vamos começar importando todas as bibliotecas "
   ]
  },
  {
   "cell_type": "code",
   "execution_count": 13,
   "id": "c9aaf9d9",
   "metadata": {},
   "outputs": [
    {
     "name": "stdout",
     "output_type": "stream",
     "text": [
      "Dispositivo: cuda\n",
      "Setup concluído!\n"
     ]
    }
   ],
   "source": [
    "# Bibliotecas básicas\n",
    "import pandas as pd\n",
    "import numpy as np\n",
    "import matplotlib.pyplot as plt\n",
    "import seaborn as sns\n",
    "import plotly.graph_objects as go\n",
    "import plotly.express as px\n",
    "from plotly.subplots import make_subplots\n",
    "\n",
    "# GluonTS\n",
    "from gluonts.dataset.common import ListDataset\n",
    "from gluonts.evaluation import make_evaluation_predictions, Evaluator\n",
    "from gluonts.torch import DeepAREstimator\n",
    "from gluonts.torch import SimpleFeedForwardEstimator\n",
    "from gluonts.torch import TemporalFusionTransformerEstimator\n",
    "from gluonts.torch import WaveNetEstimator\n",
    "\n",
    "# PyTorch\n",
    "import torch\n",
    "import torch.nn as nn\n",
    "import torch.nn.functional as F\n",
    "from torch.utils.data import Dataset, DataLoader\n",
    "\n",
    "# Machine Learning\n",
    "from sklearn.metrics import mean_absolute_error, mean_squared_error\n",
    "from sklearn.preprocessing import StandardScaler, MinMaxScaler\n",
    "from sklearn.model_selection import train_test_split\n",
    "\n",
    "# Utilidadaes\n",
    "from datetime import datetime, timedelta\n",
    "from tqdm.auto import tqdm\n",
    "import json\n",
    "from typing import List, Dict, Optional, Tuple\n",
    "import math\n",
    "\n",
    "# Configuração de visualização\n",
    "plt.style.use('seaborn-v0_8') \n",
    "sns.set_palette(\"husl\")\n",
    "device = torch.device(\"cuda\" if torch.cuda.is_available() else \"cpu\")\n",
    "\n",
    "# Seed para reprodutividade\n",
    "np.random.seed(42)\n",
    "torch.manual_seed(42)\n",
    "if torch.cuda.is_available():\n",
    "   torch.cuda.manual_seed(42)\n",
    "\n",
    "print(f\"Dispositivo: {device}\")\n",
    "print(\"Setup concluído!\")"
   ]
  },
  {
   "cell_type": "markdown",
   "id": "e4744ae7",
   "metadata": {},
   "source": [
    "## 2. Fundamentos Teóricos - Attention Mechanism"
   ]
  },
  {
   "cell_type": "code",
   "execution_count": 15,
   "id": "18460505",
   "metadata": {},
   "outputs": [
    {
     "name": "stdout",
     "output_type": "stream",
     "text": [
      "Multi-Head Attention implementando!\n",
      "Input: torch.Size([2, 24, 128]) -> Output: torch.Size([2, 24, 128])\n",
      "Attention weights: torch.Size([2, 8, 24, 24])\n"
     ]
    }
   ],
   "source": [
    "class MultiHeadAttention(nn.Module):\n",
    "   \"\"\"Implementação customizada de Multi-Head Attention para demonstração\"\"\"\n",
    "\n",
    "   def __init__(self, d_model: int, num_heads: int = 8, dropout: float = 0.1):\n",
    "      super().__init__()\n",
    "      assert d_model % num_heads == 0\n",
    "\n",
    "      self.d_model = d_model\n",
    "      self.num_heads = num_heads\n",
    "      self.d_k = d_model // num_heads\n",
    "\n",
    "      # Projeções lineares para Q, K, V\n",
    "      self.W_q = nn.Linear(d_model, d_model)\n",
    "      self.W_k = nn.Linear(d_model, d_model)\n",
    "      self.W_v = nn.Linear(d_model, d_model)\n",
    "      self.W_o = nn.Linear(d_model, d_model)\n",
    "\n",
    "      self.dropout = nn.Dropout(dropout)\n",
    "      self.scale = math.sqrt(self.d_k)\n",
    "   \n",
    "   def scaled_dot_product_attention(self, Q, K, V, mask=None):\n",
    "      \"\"\"Atenção escalada produto escalar\"\"\"\n",
    "      # Q, K, V: [batch_size, num_heads, seq_len, d_k]\n",
    "\n",
    "      scores = torch.matmul(Q, K.transpose(-2, -1)) / self.scale\n",
    "\n",
    "      if mask is not None:\n",
    "         scores.masked_fill_(mask == 0, -1e9)\n",
    "      \n",
    "      attention_weights = F.softmax(scores, dim=-1)\n",
    "      attention_weights = self.dropout(attention_weights)\n",
    "\n",
    "      output = torch.matmul(attention_weights, V)\n",
    "\n",
    "      return output, attention_weights\n",
    "\n",
    "   def forward(self, query, key, value, mask=None):\n",
    "      batch_size = query.size(0)\n",
    "\n",
    "      Q = self.W_q(query).view(batch_size, -1, self.num_heads, self.d_k).transpose(1, 2)\n",
    "      K = self.W_k(key).view(batch_size, -1, self.num_heads, self.d_k).transpose(1, 2)\n",
    "      V = self.W_v(value).view(batch_size, -1, self.num_heads, self.d_k).transpose(1, 2)\n",
    "\n",
    "      attention_output, attention_weights = self.scaled_dot_product_attention(Q, K, V, mask)\n",
    "\n",
    "      attention_output = attention_output.transpose(1, 2).contiguous().view(\n",
    "         batch_size, -1, self.d_model\n",
    "      )\n",
    "\n",
    "      output = self.W_o(attention_output)\n",
    "      return output, attention_weights\n",
    "\n",
    "print(\"Multi-Head Attention implementando!\")\n",
    "\n",
    "d_model, num_heads = 128, 8\n",
    "seq_len, batch_size = 24, 2\n",
    "\n",
    "attention = MultiHeadAttention(d_model, num_heads)\n",
    "x = torch.randn(batch_size, seq_len, d_model)\n",
    "\n",
    "output, weights = attention(x, x, x)\n",
    "print(f\"Input: {x.shape} -> Output: {output.shape}\")\n",
    "print(f\"Attention weights: {weights.shape}\")"
   ]
  },
  {
   "cell_type": "code",
   "execution_count": null,
   "id": "1739e7a9",
   "metadata": {},
   "outputs": [],
   "source": []
  }
 ],
 "metadata": {
  "kernelspec": {
   "display_name": "time_series_transformer",
   "language": "python",
   "name": "python3"
  },
  "language_info": {
   "codemirror_mode": {
    "name": "ipython",
    "version": 3
   },
   "file_extension": ".py",
   "mimetype": "text/x-python",
   "name": "python",
   "nbconvert_exporter": "python",
   "pygments_lexer": "ipython3",
   "version": "3.13.5"
  }
 },
 "nbformat": 4,
 "nbformat_minor": 5
}
